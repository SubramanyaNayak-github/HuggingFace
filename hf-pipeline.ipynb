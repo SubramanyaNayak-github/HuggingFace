{
 "cells": [
  {
   "cell_type": "markdown",
   "id": "9ecac5e2-f476-43e0-a6c9-de34340421f5",
   "metadata": {},
   "source": [
    "# Cracking Open the Hugging Face Transformers Library\n"
   ]
  },
  {
   "cell_type": "markdown",
   "id": "00221694-a44a-485e-907a-89b72a9f5894",
   "metadata": {},
   "source": [
    "### import modules"
   ]
  },
  {
   "cell_type": "code",
   "execution_count": 1,
   "id": "f03e9ea9-7b62-4962-90f5-3ecb538f4477",
   "metadata": {},
   "outputs": [],
   "source": [
    "from transformers import pipeline, Conversation\n",
    "import gradio as gr"
   ]
  },
  {
   "cell_type": "markdown",
   "id": "1fee59d7-15f0-4e47-82f1-6baeb43db0fe",
   "metadata": {},
   "source": [
    "### code"
   ]
  },
  {
   "cell_type": "markdown",
   "id": "8c43bb37-0056-4eaa-ae9b-24dd30c56754",
   "metadata": {},
   "source": [
    "#### Sentiment Analysis"
   ]
  },
  {
   "cell_type": "code",
   "execution_count": 2,
   "id": "8aa647ea-9305-4206-b5ae-ed5565db6221",
   "metadata": {},
   "outputs": [
    {
     "name": "stderr",
     "output_type": "stream",
     "text": [
      "No model was supplied, defaulted to distilbert-base-uncased-finetuned-sst-2-english and revision af0f99b (https://huggingface.co/distilbert-base-uncased-finetuned-sst-2-english).\n",
      "Using a pipeline without specifying a model name and revision in production is not recommended.\n",
      "Xformers is not installed correctly. If you want to use memory_efficient_attention to accelerate training use the following command to install Xformers\n",
      "pip install xformers.\n"
     ]
    },
    {
     "data": {
      "text/plain": [
       "[{'label': 'POSITIVE', 'score': 0.9998745918273926}]"
      ]
     },
     "execution_count": 2,
     "metadata": {},
     "output_type": "execute_result"
    }
   ],
   "source": [
    "# toy example 1\n",
    "pipeline(task=\"sentiment-analysis\")(\"Love this!\")"
   ]
  },
  {
   "cell_type": "code",
   "execution_count": 3,
   "id": "2391e50c-f9d8-4891-b965-7af0e2fa239e",
   "metadata": {},
   "outputs": [
    {
     "data": {
      "text/plain": [
       "[{'label': 'POSITIVE', 'score': 0.9998745918273926}]"
      ]
     },
     "execution_count": 3,
     "metadata": {},
     "output_type": "execute_result"
    }
   ],
   "source": [
    "# toy example 2\n",
    "pipeline(task=\"sentiment-analysis\", model=\"distilbert-base-uncased-finetuned-sst-2-english\")(\"Love this!\")"
   ]
  },
  {
   "cell_type": "markdown",
   "id": "e712fbe6-e9d7-4346-933f-e250b846a0ff",
   "metadata": {},
   "source": [
    "#### More Sentiment Analysis"
   ]
  },
  {
   "cell_type": "code",
   "execution_count": 4,
   "id": "cb83cab0-0718-47bb-8a19-240a065f2b8d",
   "metadata": {},
   "outputs": [],
   "source": [
    "# defining classifier\n",
    "classifier = pipeline(task=\"sentiment-analysis\", model=\"distilbert-base-uncased-finetuned-sst-2-english\")"
   ]
  },
  {
   "cell_type": "code",
   "execution_count": 5,
   "id": "ab3948c2-aa59-4ec8-bbc0-6697a5898bc1",
   "metadata": {},
   "outputs": [
    {
     "data": {
      "text/plain": [
       "[{'label': 'NEGATIVE', 'score': 0.9997110962867737}]"
      ]
     },
     "execution_count": 5,
     "metadata": {},
     "output_type": "execute_result"
    }
   ],
   "source": [
    "classifier(\"Hate this.\")"
   ]
  },
  {
   "cell_type": "code",
   "execution_count": 6,
   "id": "294e524d-9cbc-4e63-8f74-f7045564c2a0",
   "metadata": {},
   "outputs": [
    {
     "data": {
      "text/plain": [
       "[{'label': 'POSITIVE', 'score': 0.9998785257339478},\n",
       " {'label': 'POSITIVE', 'score': 0.9680058360099792},\n",
       " {'label': 'NEGATIVE', 'score': 0.8776106238365173},\n",
       " {'label': 'POSITIVE', 'score': 0.9998120665550232}]"
      ]
     },
     "execution_count": 6,
     "metadata": {},
     "output_type": "execute_result"
    }
   ],
   "source": [
    "# we can also pass in a list to classifier\n",
    "text_list = [\"This is great\", \\\n",
    "             \"Thanks for nothing\", \\\n",
    "             \"You've got to work on your face\", \\\n",
    "             \"You're beautiful, never change!\"]\n",
    "\n",
    "classifier(text_list)"
   ]
  },
  {
   "cell_type": "code",
   "execution_count": 7,
   "id": "4dbf9541-093b-4eb2-9a28-2d6b96d49519",
   "metadata": {},
   "outputs": [],
   "source": [
    "# if there are multiple target labels, we can return them all\n",
    "classifier = pipeline(task=\"text-classification\", model=\"SamLowe/roberta-base-go_emotions\", top_k=None)"
   ]
  },
  {
   "cell_type": "code",
   "execution_count": 8,
   "id": "cd9e9143-5485-4cf0-b5f7-53c86e238bdc",
   "metadata": {},
   "outputs": [
    {
     "data": {
      "text/plain": [
       "[[{'label': 'admiration', 'score': 0.9526104927062988},\n",
       "  {'label': 'approval', 'score': 0.03047208860516548},\n",
       "  {'label': 'neutral', 'score': 0.015236231498420238},\n",
       "  {'label': 'excitement', 'score': 0.006063772831112146},\n",
       "  {'label': 'gratitude', 'score': 0.005296189337968826},\n",
       "  {'label': 'joy', 'score': 0.004475208930671215},\n",
       "  {'label': 'curiosity', 'score': 0.004322327673435211},\n",
       "  {'label': 'realization', 'score': 0.004089603666216135},\n",
       "  {'label': 'optimism', 'score': 0.004077219869941473},\n",
       "  {'label': 'disapproval', 'score': 0.004076569341123104},\n",
       "  {'label': 'annoyance', 'score': 0.003528739558532834},\n",
       "  {'label': 'surprise', 'score': 0.0029730673413723707},\n",
       "  {'label': 'disappointment', 'score': 0.0027346380520612},\n",
       "  {'label': 'love', 'score': 0.0026945790741592646},\n",
       "  {'label': 'amusement', 'score': 0.002486741403117776},\n",
       "  {'label': 'confusion', 'score': 0.002360740676522255},\n",
       "  {'label': 'pride', 'score': 0.002101337304338813},\n",
       "  {'label': 'sadness', 'score': 0.0017730521503835917},\n",
       "  {'label': 'anger', 'score': 0.0017196915578097105},\n",
       "  {'label': 'caring', 'score': 0.0013670074986293912},\n",
       "  {'label': 'desire', 'score': 0.0010478721233084798},\n",
       "  {'label': 'disgust', 'score': 0.0009689937578514218},\n",
       "  {'label': 'fear', 'score': 0.0005249780369922519},\n",
       "  {'label': 'relief', 'score': 0.0004862115893047303},\n",
       "  {'label': 'embarrassment', 'score': 0.0003417508560232818},\n",
       "  {'label': 'grief', 'score': 0.0003389194898772985},\n",
       "  {'label': 'remorse', 'score': 0.0002780951326712966},\n",
       "  {'label': 'nervousness', 'score': 0.0002078844845527783}]]"
      ]
     },
     "execution_count": 8,
     "metadata": {},
     "output_type": "execute_result"
    }
   ],
   "source": [
    "classifier(text_list[0])"
   ]
  },
  {
   "cell_type": "markdown",
   "id": "1e3c7961-69ec-4a02-90a8-1530286f6bab",
   "metadata": {},
   "source": [
    "#### Summarization"
   ]
  },
  {
   "cell_type": "code",
   "execution_count": 9,
   "id": "6d0b7060-fb04-40de-8d25-7edd8772d04a",
   "metadata": {},
   "outputs": [],
   "source": [
    "summarizer = pipeline(\"summarization\", model=\"facebook/bart-large-cnn\")"
   ]
  },
  {
   "cell_type": "code",
   "execution_count": 10,
   "id": "cedeb7ee-c1ec-4e71-b31b-9db46ed56c80",
   "metadata": {},
   "outputs": [
    {
     "data": {
      "text/plain": [
       "'Hugging Face is an AI company that has become a major hub for open-source machine learning. They have 3 major elements which allow users to access and share machine learning resources.'"
      ]
     },
     "execution_count": 10,
     "metadata": {},
     "output_type": "execute_result"
    }
   ],
   "source": [
    "text = \"\"\"\n",
    "Hugging Face is an AI company that has become a major hub for open-source machine learning. \n",
    "Their platform has 3 major elements which allow users to access and share machine learning resources. \n",
    "First, is their rapidly growing repository of pre-trained open-source machine learning models for things such as natural language processing (NLP), computer vision, and more. \n",
    "Second, is their library of datasets for training machine learning models for almost any task. \n",
    "Third, and finally, is Spaces which is a collection of open-source ML apps.\n",
    "\n",
    "The power of these resources is that they are community generated, which leverages all the benefits of open source i.e. cost-free, wide diversity of tools, high quality resources, and rapid pace of innovation. \n",
    "While these make building powerful ML projects more accessible than before, there is another key element of the Hugging Face ecosystem—their Transformers library.\n",
    "\"\"\"\n",
    "summarized_text = summarizer(text, min_length=5, max_length=140)[0]['summary_text']\n",
    "summarized_text"
   ]
  },
  {
   "cell_type": "code",
   "execution_count": 11,
   "id": "d2e48ba3-b55b-46df-9d4e-717fb2726dad",
   "metadata": {},
   "outputs": [
    {
     "data": {
      "text/plain": [
       "[[{'label': 'neutral', 'score': 0.9101783633232117},\n",
       "  {'label': 'approval', 'score': 0.08781372010707855},\n",
       "  {'label': 'realization', 'score': 0.023256294429302216},\n",
       "  {'label': 'annoyance', 'score': 0.006623792927712202},\n",
       "  {'label': 'admiration', 'score': 0.004981081001460552},\n",
       "  {'label': 'disapproval', 'score': 0.004730119835585356},\n",
       "  {'label': 'optimism', 'score': 0.0033590723760426044},\n",
       "  {'label': 'disappointment', 'score': 0.0026190048083662987},\n",
       "  {'label': 'confusion', 'score': 0.0019539776258170605},\n",
       "  {'label': 'excitement', 'score': 0.0012417063117027283},\n",
       "  {'label': 'disgust', 'score': 0.0011407802812755108},\n",
       "  {'label': 'joy', 'score': 0.0010540130315348506},\n",
       "  {'label': 'amusement', 'score': 0.0009572382550686598},\n",
       "  {'label': 'love', 'score': 0.0008871068712323904},\n",
       "  {'label': 'desire', 'score': 0.0008553270599804819},\n",
       "  {'label': 'curiosity', 'score': 0.0008261068142019212},\n",
       "  {'label': 'anger', 'score': 0.0007336389389820397},\n",
       "  {'label': 'caring', 'score': 0.0006971127004362643},\n",
       "  {'label': 'sadness', 'score': 0.0006702448008581996},\n",
       "  {'label': 'gratitude', 'score': 0.0006645717658102512},\n",
       "  {'label': 'surprise', 'score': 0.0005773786688223481},\n",
       "  {'label': 'relief', 'score': 0.0004789051308762282},\n",
       "  {'label': 'fear', 'score': 0.0004512510495260358},\n",
       "  {'label': 'pride', 'score': 0.00035174345248378813},\n",
       "  {'label': 'embarrassment', 'score': 0.00032615300733596087},\n",
       "  {'label': 'remorse', 'score': 0.0001947579876286909},\n",
       "  {'label': 'nervousness', 'score': 0.00018521495803724974},\n",
       "  {'label': 'grief', 'score': 0.00016037873865570873}]]"
      ]
     },
     "execution_count": 11,
     "metadata": {},
     "output_type": "execute_result"
    }
   ],
   "source": [
    "classifier(summarized_text)"
   ]
  },
  {
   "cell_type": "markdown",
   "id": "b783e8c1-a1f6-4f3a-b539-e4e77063f390",
   "metadata": {},
   "source": [
    "#### Conversational"
   ]
  },
  {
   "cell_type": "code",
   "execution_count": 12,
   "id": "6be097fd-cde5-4038-a20d-c2d86cdcd9a7",
   "metadata": {},
   "outputs": [],
   "source": [
    "chatbot = pipeline(model=\"facebook/blenderbot-400M-distill\")"
   ]
  },
  {
   "cell_type": "code",
   "execution_count": 13,
   "id": "7580fb20-2ba8-49ab-9261-18d46018d7e3",
   "metadata": {},
   "outputs": [],
   "source": [
    "conversation = chatbot(\"Hi I'm Shaw, how are you?\")"
   ]
  },
  {
   "cell_type": "code",
   "execution_count": 14,
   "id": "e22274cb-83a1-42d7-947c-2ddeed4df6f5",
   "metadata": {},
   "outputs": [
    {
     "data": {
      "text/plain": [
       "Conversation id: 5d4166e0-c207-4060-b1ae-253861d045ab \n",
       "user >> Hi I'm Shaw, how are you? \n",
       "bot >>  I'm doing well. How are you doing this evening? I just got home from work. "
      ]
     },
     "execution_count": 14,
     "metadata": {},
     "output_type": "execute_result"
    }
   ],
   "source": [
    "conversation"
   ]
  },
  {
   "cell_type": "code",
   "execution_count": 15,
   "id": "b27ea6f8-939d-46df-9543-ce971556a5d2",
   "metadata": {},
   "outputs": [],
   "source": [
    "conversation = chatbot(\"Where do you work?\")"
   ]
  },
  {
   "cell_type": "code",
   "execution_count": 16,
   "id": "b268de14-4dd6-4d02-9f1b-b4582d03a26c",
   "metadata": {},
   "outputs": [
    {
     "data": {
      "text/plain": [
       "Conversation id: 5d4166e0-c207-4060-b1ae-253861d045ab \n",
       "user >> Hi I'm Shaw, how are you? \n",
       "bot >>  I'm doing well. How are you doing this evening? I just got home from work. \n",
       "user >> Where do you work? \n",
       "bot >>  I work at a grocery store. What about you? What do you do for a living? "
      ]
     },
     "execution_count": 16,
     "metadata": {},
     "output_type": "execute_result"
    }
   ],
   "source": [
    "conversation"
   ]
  },
  {
   "cell_type": "markdown",
   "id": "94e6f7db-f09c-452a-97ee-2bc9c0b9707e",
   "metadata": {},
   "source": [
    "### Deploy Chatbot UI"
   ]
  },
  {
   "cell_type": "markdown",
   "id": "51f53d0e-4ee3-416c-9abe-bd64bbde7433",
   "metadata": {},
   "source": [
    "#### Text Sentiment Chatbot"
   ]
  },
  {
   "cell_type": "code",
   "execution_count": 17,
   "id": "50498912-8ebb-4369-bd7b-c923eee4dd42",
   "metadata": {},
   "outputs": [
    {
     "name": "stdout",
     "output_type": "stream",
     "text": [
      "Running on local URL:  http://127.0.0.1:7860\n",
      "\n",
      "To create a public link, set `share=True` in `launch()`.\n"
     ]
    },
    {
     "data": {
      "text/html": [
       "<div><iframe src=\"http://127.0.0.1:7860/\" width=\"100%\" height=\"500\" allow=\"autoplay; camera; microphone; clipboard-read; clipboard-write;\" frameborder=\"0\" allowfullscreen></iframe></div>"
      ],
      "text/plain": [
       "<IPython.core.display.HTML object>"
      ]
     },
     "metadata": {},
     "output_type": "display_data"
    },
    {
     "data": {
      "text/plain": []
     },
     "execution_count": 17,
     "metadata": {},
     "output_type": "execute_result"
    }
   ],
   "source": [
    "def top3_text_classes(message, history):\n",
    "    return str(classifier(message)[0][:3]).replace('}, {', '\\n').replace('[{', '').replace('}]', '')\n",
    "\n",
    "demo_sentiment = gr.ChatInterface(top3_text_classes, title=\"Text Sentiment Chatbot\", description=\"Enter your text, and the chatbot will classify the sentiment.\")\n",
    "\n",
    "demo_sentiment.launch()"
   ]
  },
  {
   "cell_type": "markdown",
   "id": "88e64992-072b-4c6f-be95-7bbba7dfefe1",
   "metadata": {},
   "source": [
    "#### Summarizer Chatbot"
   ]
  },
  {
   "cell_type": "code",
   "execution_count": 18,
   "id": "ebf5e2fb-9e5d-4756-aaee-c98c660b3294",
   "metadata": {},
   "outputs": [
    {
     "name": "stdout",
     "output_type": "stream",
     "text": [
      "Running on local URL:  http://127.0.0.1:7861\n",
      "\n",
      "To create a public link, set `share=True` in `launch()`.\n"
     ]
    },
    {
     "data": {
      "text/html": [
       "<div><iframe src=\"http://127.0.0.1:7861/\" width=\"100%\" height=\"500\" allow=\"autoplay; camera; microphone; clipboard-read; clipboard-write;\" frameborder=\"0\" allowfullscreen></iframe></div>"
      ],
      "text/plain": [
       "<IPython.core.display.HTML object>"
      ]
     },
     "metadata": {},
     "output_type": "display_data"
    },
    {
     "data": {
      "text/plain": []
     },
     "execution_count": 18,
     "metadata": {},
     "output_type": "execute_result"
    }
   ],
   "source": [
    "def summarizer_bot(message, history):\n",
    "    return summarizer(message, min_length=5, max_length=140)[0]['summary_text']\n",
    "\n",
    "demo_summarizer = gr.ChatInterface(summarizer_bot, title=\"Summarizer Chatbot\", description=\"Enter your text, and the chatbot will return the summarized version.\")\n",
    "\n",
    "demo_summarizer.launch()"
   ]
  },
  {
   "cell_type": "markdown",
   "id": "3a9759ba-9a81-40cb-87fe-d72939be5460",
   "metadata": {},
   "source": [
    "#### Vanilla Chatbot"
   ]
  },
  {
   "cell_type": "code",
   "execution_count": 22,
   "id": "507b9671-2035-4d3e-9385-931af3a69580",
   "metadata": {},
   "outputs": [
    {
     "name": "stdout",
     "output_type": "stream",
     "text": [
      "Running on local URL:  http://127.0.0.1:7863\n",
      "\n",
      "To create a public link, set `share=True` in `launch()`.\n"
     ]
    },
    {
     "data": {
      "text/html": [
       "<div><iframe src=\"http://127.0.0.1:7863/\" width=\"100%\" height=\"500\" allow=\"autoplay; camera; microphone; clipboard-read; clipboard-write;\" frameborder=\"0\" allowfullscreen></iframe></div>"
      ],
      "text/plain": [
       "<IPython.core.display.HTML object>"
      ]
     },
     "metadata": {},
     "output_type": "display_data"
    },
    {
     "data": {
      "text/plain": []
     },
     "execution_count": 22,
     "metadata": {},
     "output_type": "execute_result"
    },
    {
     "name": "stdout",
     "output_type": "stream",
     "text": [
      "test\n",
      "[]\n",
      "['tes']\n",
      "[' Do you like teslas? They are a type of cylinder shaped object.']\n",
      "test\n",
      "[['tes', ' Do you like teslas? They are a type of cylinder shaped object.']]\n",
      "['tes', 'Hello']\n",
      "[' Do you like teslas? They are a type of cylinder shaped object.', ' Do you have a favorite type of tesla? They have been around since 1973.']\n"
     ]
    }
   ],
   "source": [
    "message_list = []\n",
    "response_list = []\n",
    "\n",
    "def vanilla_chatbot(message, history):\n",
    "    conversation = chatbot(message)\n",
    "    \n",
    "    return conversation[0]['generated_text']\n",
    "\n",
    "demo_chatbot = gr.ChatInterface(vanilla_chatbot, title=\"Vanilla Chatbot\", description=\"Enter text to start chatting.\")\n",
    "\n",
    "demo_chatbot.launch()"
   ]
  }
 ],
 "metadata": {
  "kernelspec": {
   "display_name": "Python 3 (ipykernel)",
   "language": "python",
   "name": "python3"
  },
  "language_info": {
   "codemirror_mode": {
    "name": "ipython",
    "version": 3
   },
   "file_extension": ".py",
   "mimetype": "text/x-python",
   "name": "python",
   "nbconvert_exporter": "python",
   "pygments_lexer": "ipython3",
   "version": "3.10.12"
  }
 },
 "nbformat": 4,
 "nbformat_minor": 5
}
